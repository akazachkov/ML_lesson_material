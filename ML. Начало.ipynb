{
 "cells": [
  {
   "cell_type": "markdown",
   "metadata": {},
   "source": [
    "# Асимптотический анализ\n",
    "\n",
    "Эффективность алгоритма зависит от следующих параметров: время выполнения, объем памяти и других ресурсов, необходимых для его выполнения. Эффективность измеряется с помощью асимптотических нотаций.\n",
    "\n",
    "Производительность алгоритма может отличаться при работе с различными типами данных. С увеличением количества входных данных она также изменяется.\n",
    "\n",
    "**Асимптотический анализ** – метод изучения производительности алгоритмов при различных объемах и типах входных данных.\n",
    "\n",
    "В основном используются три нотации:\n",
    "\n",
    "- Большое «О» (Big-O Notation (O-notation))\n",
    "- Омега нотация (Omega Notation (Ω-notation))\n",
    "- Тета нотация (Theta Notation (Θ-notation))\n",
    "\n",
    "`O-нотация` или `Большое «О»` – используется для описания производительности алгоритмов в зависимости от размера входных данных. Она показывает, как изменяется время выполнения или использование памяти, по мере роста объёма данных. Так как эта нотация дает нам представления о верхней границе, т.е. худшей скорости выполнения алгоритма, то ее анализ обязателен – нам всегда интересна эта характеристика.\n",
    "\n",
    "`Омега нотация` – противоположность большому «О». Она показывает нижнюю границу скорости выполнения алгоритма. Она описывает лучший случай выполнения алгоритма.\n",
    "\n",
    "`Тета нотация` объединяет в себе сразу две функции – верхнюю и нижнюю. Эта нотация отражает и верхнюю, и нижнюю границу скорости выполнения алгоритма. Именно поэтому она используется для анализа средней скорости выполнения алгоритма.\n",
    "\n",
    "Нас интересует, в большей степени, именно O-нотация, поэтому разбираться будем с ней.\n",
    "\n",
    "`Линейный поиск` обозначается как O(n) – время выполнения зависит от количества элементов в списке. Если список увеличивается в два раза, время выполнения также увеличится в два раза.\n",
    "\n",
    "`Бинарный поиск` обозначается как O(log n) – время выполнения зависит от логарифма количества элементов. Если список увеличивается в два раза, время выполнения увеличится незначительно.\n",
    "\n",
    "### Виды О-нотаций\n",
    "\n",
    "![Ошибка загрузки](https://github.com/akazachkov/ML_lesson_material/blob/main/_add_material_lesson_ML/O-notation.png?raw=true)\n",
    "\n",
    "# Сравнение структур данных\n",
    "\n",
    "![Ошибка загрузки](https://github.com/akazachkov/ML_lesson_material/blob/main/_add_material_lesson_ML/Compare_data_structures.png?raw=true)\n",
    "\n",
    "Списки (Lists) – подходят для хранения упорядоченных коллекций элементов с быстрым доступом по индексу, но операции поиска и удаления могут быть медленными.\n",
    "\n",
    "Кортежи (Tuples) – имеют те же преимущества и недостатки, что и списки, но неизменяемы.\n",
    "\n",
    "Множества (Sets) – отлично подходят для хранения уникальных элементов и выполнения быстрых операций поиска, добавления и удаления.\n",
    "\n",
    "Словари (Dictionaries) – идеальны для хранения пар ключ-значение с быстрым доступом, поиском, добавлением и удалением элементов."
   ]
  },
  {
   "cell_type": "markdown",
   "metadata": {},
   "source": [
    "Посмотрим на примере скорость поиска информации в списке и словаре. Для этого сгенерируем данные и запустим поиск с расчётом затраченного времени."
   ]
  },
  {
   "cell_type": "code",
   "execution_count": null,
   "metadata": {},
   "outputs": [],
   "source": [
    "import time\n",
    "import random\n",
    "import string\n",
    "\n",
    "# Создание тестовых данных\n",
    "\n",
    "def generate_contacts_list(n):\n",
    "    contacts = []\n",
    "    for _ in range(n):\n",
    "        name = ''.join(random.choices(string.ascii_letters, k=10))\n",
    "        phone = ''.join(random.choices(string.digits, k=10))\n",
    "        email = f\"{name.lower()}@example.com\"\n",
    "        contacts.append([name, phone, email])\n",
    "    return contacts\n",
    "\n",
    "def generate_contacts_dict(n):\n",
    "    contacts = {}\n",
    "    for _ in range(n):\n",
    "        name = ''.join(random.choices(string.ascii_letters, k=10))\n",
    "        phone = ''.join(random.choices(string.digits, k=10))\n",
    "        email = f\"{name.lower()}@example.com\"\n",
    "        contacts[name] = {\"phone\": phone, \"email\": email}\n",
    "    return contacts"
   ]
  },
  {
   "cell_type": "code",
   "execution_count": null,
   "metadata": {},
   "outputs": [],
   "source": [
    "# Генерация данных\n",
    "\n",
    "n = 1000000\n",
    "contacts_list = generate_contacts_list(n)\n",
    "contacts_dict = generate_contacts_dict(n)"
   ]
  },
  {
   "cell_type": "code",
   "execution_count": null,
   "metadata": {},
   "outputs": [],
   "source": [
    "# Выбор случайного имени, которое мы будем искать с помощью дальнейших функции\n",
    "\n",
    "random_name = contacts_list[random.randint(0, n-1)][0]\n",
    "random_name"
   ]
  },
  {
   "cell_type": "code",
   "execution_count": null,
   "metadata": {},
   "outputs": [],
   "source": [
    "%%time\n",
    "\n",
    "# Время поиска в списке\n",
    "\n",
    "def find_contact_list(contacts, name):\n",
    "  for contact in contacts:\n",
    "    if contact[0] == name:\n",
    "      return contact\n",
    "  return None\n",
    "\n",
    "start_time = time.time()\n",
    "find_contact_list(contacts_list, random_name)\n",
    "list_search_time = time.time() - start_time\n",
    "list_search_time"
   ]
  },
  {
   "cell_type": "code",
   "execution_count": null,
   "metadata": {},
   "outputs": [],
   "source": [
    "%%time\n",
    "\n",
    "# Время поиска в словаре\n",
    "\n",
    "def find_contact_dict(contacts, name):\n",
    "    return contacts.get(name, None)\n",
    "\n",
    "start_time = time.time()\n",
    "find_contact_dict(contacts_dict, random_name)\n",
    "dict_search_time = time.time() - start_time\n",
    "dict_search_time"
   ]
  },
  {
   "cell_type": "markdown",
   "metadata": {},
   "source": [
    "На моём компьютере, поиск по листу занимает 20-50 ms, в то время как по словарю поиск проходит так быстро, что выводится 0 ns (лишь раз, за десятки итераций, выдал 998 µs)."
   ]
  }
 ],
 "metadata": {
  "kernelspec": {
   "display_name": "Python 3",
   "language": "python",
   "name": "python3"
  },
  "language_info": {
   "codemirror_mode": {
    "name": "ipython",
    "version": 3
   },
   "file_extension": ".py",
   "mimetype": "text/x-python",
   "name": "python",
   "nbconvert_exporter": "python",
   "pygments_lexer": "ipython3",
   "version": "3.12.3"
  }
 },
 "nbformat": 4,
 "nbformat_minor": 2
}
