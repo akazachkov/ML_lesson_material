{
 "cells": [
  {
   "cell_type": "code",
   "execution_count": null,
   "metadata": {},
   "outputs": [],
   "source": [
    "'''Задание 1: Основы программирования на Python\n",
    "\n",
    "Описание: Напишите функцию, которая принимает список чисел и возвращает список квадратов этих чисел.''' \n",
    "\n",
    "def squaring(data):\n",
    "    '''Возведение чисел в квадрат'''\n",
    "    for i in range(len(data)):\n",
    "        my_list[i] *= 2\n",
    "    return my_list\n",
    "\n",
    "my_list = [1.1, 1000.7, 3, 3, 13, 3, 6, 6, 7, 9, 9, 8, 9, 10, 10, 11, 12, 3, 14, 14, 14, 15, 15, 500]\n",
    "\n",
    "print(squaring(my_list))"
   ]
  },
  {
   "cell_type": "code",
   "execution_count": null,
   "metadata": {},
   "outputs": [],
   "source": [
    "'''Задание 2: Структуры данных в Python\n",
    "\n",
    "Описание : Напишите функцию, которая принимает строку и возвращает словарь,\n",
    "где ключами являются символы строки, а значениями – количество их вхождений встроку'''\n",
    "\n",
    "from collections import Counter\n",
    "\n",
    "def counter_symbol(text):\n",
    "    list = [i for i in text if i]  # Достанем в список все символы строки (включая перенос строки)\n",
    "    return Counter(list)  # Считаем количество вхождений каждого символа\n",
    "\n",
    "string = '''высокоуровневый язык программирования общего назначения с динамической строгой\n",
    "            типизацией и автоматическим управлением памятью...'''\n",
    "\n",
    "print(counter_symbol(string))"
   ]
  },
  {
   "cell_type": "code",
   "execution_count": null,
   "metadata": {},
   "outputs": [],
   "source": [
    "'''Задание 3: Библиотеки\n",
    "\n",
    "Описание: Используйте встроенный датасет titanic из библиотеки seaborn и выполните следующие задания:\n",
    "\n",
    "1. Выведите первые 5 строк DataFrame.\n",
    "2. Замените все пропущенные значения в столбце age средним значением по этому столбцу.\n",
    "3. Создайте новый столбец age_category, который будет содержать категориальные \n",
    "значения \"Child\", \"Adult\" и \"Senior\" на основе возраста (age)'''\n",
    "\n",
    "import seaborn as sns\n",
    "\n",
    "data = sns.load_dataset(\"titanic\")\n",
    "data.head()  # Первые 5 строк DataFrame"
   ]
  },
  {
   "cell_type": "code",
   "execution_count": null,
   "metadata": {},
   "outputs": [],
   "source": [
    "data.isna().sum()  # Смотрим, сколько данных пропущенно"
   ]
  },
  {
   "cell_type": "code",
   "execution_count": null,
   "metadata": {},
   "outputs": [],
   "source": [
    "mean = data['age'].mean()\n",
    "data['age'] = data['age'].fillna(mean)  # Заменяем все пропуски средним значением по этому столбцу"
   ]
  },
  {
   "cell_type": "code",
   "execution_count": null,
   "metadata": {},
   "outputs": [],
   "source": [
    "data.isna().sum()  # Проверяем, что все недостающие данные в столбце заменены"
   ]
  },
  {
   "cell_type": "code",
   "execution_count": null,
   "metadata": {},
   "outputs": [],
   "source": [
    "'''Создаём новый столбец age_category, который будет содержать категориальные\n",
    "значения \"Child\", \"Adult\" и \"Senior\" на основе возраста (age)'''\n",
    "\n",
    "data['age_category'] = data['age'].apply(lambda x: 'Child' if x < 18 else ('Adult' if 18 <= x < 50 else 'Senior'))\n",
    "data.head(20)  # Смотрим первые 20 строк, чтобы увидеть результат"
   ]
  },
  {
   "cell_type": "code",
   "execution_count": null,
   "metadata": {},
   "outputs": [],
   "source": [
    "'''Задание 4: Манипуляции и анализ данных\n",
    "\n",
    "Описание: Продолжаем работу с датасетом titanic. Используя Pandas и датасет titanic из библиотеки seaborn,\n",
    "выполните следующие задания:\n",
    "1. Выполните группировку данных по столбцу class и вычислите среднее значение для каждого класса по столбцу fare.\n",
    "2. Постройте график распределения данных по столбцу age.\n",
    "3. Постройте тепловую карту корреляционной матрицы числовых переменных.'''\n",
    "\n",
    "import seaborn as sns\n",
    "\n",
    "data = sns.load_dataset(\"titanic\")\n",
    "data.head(25)"
   ]
  },
  {
   "cell_type": "code",
   "execution_count": null,
   "metadata": {},
   "outputs": [],
   "source": [
    "'''Продолжение следует...'''"
   ]
  }
 ],
 "metadata": {
  "kernelspec": {
   "display_name": "Python 3",
   "language": "python",
   "name": "python3"
  },
  "language_info": {
   "codemirror_mode": {
    "name": "ipython",
    "version": 3
   },
   "file_extension": ".py",
   "mimetype": "text/x-python",
   "name": "python",
   "nbconvert_exporter": "python",
   "pygments_lexer": "ipython3",
   "version": "3.12.3"
  }
 },
 "nbformat": 4,
 "nbformat_minor": 2
}
