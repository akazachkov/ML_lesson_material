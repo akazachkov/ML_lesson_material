{
  "cells": [
    {
      "cell_type": "markdown",
      "metadata": {
        "id": "OsXZ7TctudVa"
      },
      "source": [
        "#Домашнее задание № 1"
      ]
    },
    {
      "cell_type": "markdown",
      "metadata": {
        "id": "kbJt8TyMujxo"
      },
      "source": [
        "### Задание 1: Анализ данных о студентах с использованием NumPy\n",
        "\n",
        "\n",
        "Описание:\n",
        "У вас есть данные о студентах, включающие оценки по различным предметам. Используйте библиотеку NumPy для анализа этих данных."
      ]
    },
    {
      "cell_type": "code",
      "execution_count": 11,
      "metadata": {
        "colab": {
          "base_uri": "https://localhost:8080/"
        },
        "id": "oZgX9GMrugmO",
        "outputId": "71c5c052-c75b-4e89-ab28-56b6a29643cd"
      },
      "outputs": [
        {
          "data": {
            "text/plain": [
              "{'math': [85, 78, 92, 70, 88],\n",
              " 'physics': [90, 82, 76, 85, 89],\n",
              " 'informatics': [88, 92, 80, 87, 90]}"
            ]
          },
          "execution_count": 11,
          "metadata": {},
          "output_type": "execute_result"
        }
      ],
      "source": [
        "students_data = {\n",
        "    'math': [85, 78, 92, 70, 88],\n",
        "    'physics': [90, 82, 76, 85, 89],\n",
        "    'informatics': [88, 92, 80, 87, 90]\n",
        "}\n",
        "\n",
        "students_data"
      ]
    },
    {
      "cell_type": "markdown",
      "metadata": {
        "id": "wM19w8jduxX8"
      },
      "source": [
        "Задание:\n",
        "\n",
        "Найдите среднюю оценку по каждому предмету.<br>\n",
        "Найдите медианную оценку по каждому предмету.<br>\n",
        "Вычислите стандартное отклонение по каждому предмету.<br>\n",
        "Определите предмет с самой высокой средней оценкой."
      ]
    },
    {
      "cell_type": "code",
      "execution_count": 12,
      "metadata": {},
      "outputs": [
        {
          "name": "stdout",
          "output_type": "stream",
          "text": [
            "Средняя оценка по math: 82.6\n",
            "Средняя оценка по physics: 84.4\n",
            "Средняя оценка по informatics: 87.4\n",
            "Медианная оценка по math: 85\n",
            "Медианная оценка по physics: 85\n",
            "Медианная оценка по informatics: 88\n",
            "Стандартное отклонение по math: 7.79\n",
            "Стандартное отклонение по physics: 5.08\n",
            "Стандартное отклонение по informatics: 4.08\n",
            "Предмет с самой высокой оценкой - informatics\n"
          ]
        }
      ],
      "source": [
        "def calculate_mean(data):\n",
        "    '''Расчёт среднего значения'''\n",
        "    for key, data in data.items():\n",
        "        total = sum(data)\n",
        "        count = len(data)\n",
        "        mean = total/count\n",
        "        print(f'Средняя оценка по {key}: {mean}')\n",
        "\n",
        "def calculate_median(data):\n",
        "    for key, data in data.items():\n",
        "        data.sort()  # Cортируем данные по убыванию\n",
        "        '''Расчёт медианы'''\n",
        "        n = len(data)\n",
        "        if n % 2 == 0:\n",
        "            median = (data[n//2 - 1] + data[n//2]) / 2\n",
        "        else:\n",
        "            median = data[n//2]\n",
        "        print(f'Медианная оценка по {key}: {median}')\n",
        "\n",
        "def calculate_standard_deviation(data):\n",
        "    for key, data in data.items():\n",
        "        print(f'Стандартное отклонение по {key}: %.2f' % np.std(data))\n",
        "\n",
        "def calculate_max_mean(data):\n",
        "    result_dct = data\n",
        "    for key, data in data.items():\n",
        "        total = sum(data)\n",
        "        count = len(data)\n",
        "        mean = total/count\n",
        "        result_dct.update({key: mean})\n",
        "\n",
        "    max = sorted(result_dct, key=result_dct.get, reverse=True)\n",
        "    print(f'Предмет с самой высокой оценкой - {max[0]}')\n",
        "\n",
        "calculate_mean(students_data)\n",
        "calculate_median(students_data)\n",
        "calculate_standard_deviation(students_data)\n",
        "calculate_max_mean(students_data)"
      ]
    },
    {
      "cell_type": "markdown",
      "metadata": {
        "id": "7OjM3A7Ou7HR"
      },
      "source": [
        "### Задание 2: Анализ данных о продажах с использованием Pandas\n",
        "\n",
        "Описание:\n",
        "Используйте библиотеку Pandas для анализа данных о продажах товаров. У вас есть данные о продажах товаров за последний год."
      ]
    },
    {
      "cell_type": "code",
      "execution_count": null,
      "metadata": {
        "colab": {
          "base_uri": "https://localhost:8080/"
        },
        "id": "c9LrLZKBusJ1",
        "outputId": "1146abe4-8c04-4047-8366-b985c7c6eac3"
      },
      "outputs": [],
      "source": [
        "sales_data = {\n",
        "    'Month': ['January', 'February', 'March', 'April', 'May', 'June', 'July', 'August', 'September', 'October', 'November', 'December'],\n",
        "    'Sales': [15000, 17000, 16000, 18000, 14000, 19000, 22000, 21000, 23000, 25000, 24000, 26000]\n",
        "}\n",
        "sales_data\n"
      ]
    },
    {
      "cell_type": "markdown",
      "metadata": {
        "id": "h8Uo_C36vEVh"
      },
      "source": [
        "Задание: <br>\n",
        "Найдите общий объем продаж за год.<br>\n",
        "Найдите средний объем продаж в месяц.<br>\n",
        "Найдите месяц с наибольшим и наименьшим объемом продаж.<br>\n",
        "Постройте линейный график изменения объема продаж по месяцам."
      ]
    },
    {
      "cell_type": "markdown",
      "metadata": {
        "id": "I5FobQ6Tvur4"
      },
      "source": [
        "### Задание 3: Задание на визуализацию данных с использованием Matplotlib и Seaborn"
      ]
    },
    {
      "cell_type": "markdown",
      "metadata": {
        "id": "c-jTCYmJv1VX"
      },
      "source": [
        "Описание:\n",
        "Используйте готовый набор данных из библиотеки Seaborn для создания различных типов графиков. Ваша задача — загрузить один из встроенных наборов данных Seaborn и построить несколько базовых графиков для анализа данных."
      ]
    },
    {
      "cell_type": "code",
      "execution_count": null,
      "metadata": {
        "colab": {
          "base_uri": "https://localhost:8080/",
          "height": 206
        },
        "id": "TGSP0t5DvzM1",
        "outputId": "dcd85260-a922-46bf-ba43-6910743989bc"
      },
      "outputs": [],
      "source": [
        "import seaborn as sns\n",
        "import matplotlib.pyplot as plt\n",
        "\n",
        "df = sns.load_dataset('tips') # или другой датасет на выбор\n",
        "\n",
        "df.head()"
      ]
    },
    {
      "cell_type": "markdown",
      "metadata": {
        "id": "8X9QsFkjwMqd"
      },
      "source": [
        "Постройте следующие графики: <br>\n",
        "Линейный график <br>\n",
        "Столбчатый график <br>\n",
        "Гистограмма <br>\n",
        "Диаграмма рассеяния <br>"
      ]
    },
    {
      "cell_type": "markdown",
      "metadata": {
        "id": "agszTEtEwIHt"
      },
      "source": []
    }
  ],
  "metadata": {
    "colab": {
      "provenance": []
    },
    "kernelspec": {
      "display_name": "Python 3",
      "name": "python3"
    },
    "language_info": {
      "codemirror_mode": {
        "name": "ipython",
        "version": 3
      },
      "file_extension": ".py",
      "mimetype": "text/x-python",
      "name": "python",
      "nbconvert_exporter": "python",
      "pygments_lexer": "ipython3",
      "version": "3.12.3"
    }
  },
  "nbformat": 4,
  "nbformat_minor": 0
}
